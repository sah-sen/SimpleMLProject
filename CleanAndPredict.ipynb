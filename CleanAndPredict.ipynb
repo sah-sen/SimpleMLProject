{
 "cells": [
  {
   "cell_type": "code",
   "execution_count": 71,
   "id": "ab558da9",
   "metadata": {},
   "outputs": [],
   "source": [
    "import pandas as pd\n",
    "from sklearn.tree import DecisionTreeClassifier\n",
    "from sklearn.model_selection import train_test_split\n",
    "from sklearn.metrics import accuracy_score\n",
    "import joblib\n",
    "from sklearn import tree\n",
    "\n",
    "md = pd.read_csv('music.csv')"
   ]
  },
  {
   "cell_type": "markdown",
   "id": "cd4aa8c7",
   "metadata": {},
   "source": [
    "Read and store the csv as \"md\""
   ]
  },
  {
   "cell_type": "code",
   "execution_count": 17,
   "id": "d5ff2ff8",
   "metadata": {
    "scrolled": false
   },
   "outputs": [],
   "source": [
    "x = md.drop(columns = ['genre'])\n"
   ]
  },
  {
   "cell_type": "markdown",
   "id": "18dc801a",
   "metadata": {},
   "source": [
    "Drops the genre column, stores new thing in x"
   ]
  },
  {
   "cell_type": "code",
   "execution_count": 13,
   "id": "29f98cc6",
   "metadata": {},
   "outputs": [],
   "source": [
    "y = md['genre']\n"
   ]
  },
  {
   "cell_type": "markdown",
   "id": "420036f1",
   "metadata": {},
   "source": [
    "y contains ONLY the genre coulumn"
   ]
  },
  {
   "cell_type": "markdown",
   "id": "49990c1b",
   "metadata": {},
   "source": [
    "Splitting into training and testing data"
   ]
  },
  {
   "cell_type": "code",
   "execution_count": 39,
   "id": "8e89e703",
   "metadata": {},
   "outputs": [],
   "source": [
    "xtrain, xtest, ytrain, ytest = train_test_split(x,y, test_size = 0.2)"
   ]
  },
  {
   "cell_type": "markdown",
   "id": "1a489276",
   "metadata": {},
   "source": [
    "Find the accuracy of the model"
   ]
  },
  {
   "cell_type": "code",
   "execution_count": 54,
   "id": "1dc499ff",
   "metadata": {},
   "outputs": [
    {
     "data": {
      "text/plain": [
       "0.75"
      ]
     },
     "execution_count": 54,
     "metadata": {},
     "output_type": "execute_result"
    }
   ],
   "source": [
    "model = DecisionTreeClassifier()\n",
    "model.fit(xtrain,ytrain)\n",
    "preds = model.predict(xtest)\n",
    "score = accuracy_score(ytest, preds)\n",
    "score\n"
   ]
  },
  {
   "cell_type": "markdown",
   "id": "8099a37e",
   "metadata": {},
   "source": [
    "Using the Decision tree classifier a prediction is made with some new data"
   ]
  },
  {
   "cell_type": "code",
   "execution_count": 45,
   "id": "99c4da58",
   "metadata": {
    "scrolled": true
   },
   "outputs": [
    {
     "name": "stderr",
     "output_type": "stream",
     "text": [
      "/Users/smseneviratne/anaconda3/lib/python3.10/site-packages/sklearn/base.py:420: UserWarning: X does not have valid feature names, but DecisionTreeClassifier was fitted with feature names\n",
      "  warnings.warn(\n"
     ]
    },
    {
     "data": {
      "text/plain": [
       "array(['HipHop', 'Dance'], dtype=object)"
      ]
     },
     "execution_count": 45,
     "metadata": {},
     "output_type": "execute_result"
    }
   ],
   "source": [
    "mypred = model.predict([[21,1],[22,0]])\n",
    "mypred"
   ]
  },
  {
   "cell_type": "markdown",
   "id": "554b665f",
   "metadata": {},
   "source": [
    "Persisting the model to a joblib file helps to let it be used in other files"
   ]
  },
  {
   "cell_type": "code",
   "execution_count": 69,
   "id": "697657b9",
   "metadata": {
    "scrolled": true
   },
   "outputs": [
    {
     "data": {
      "text/plain": [
       "['music-recommender.joblib']"
      ]
     },
     "execution_count": 69,
     "metadata": {},
     "output_type": "execute_result"
    }
   ],
   "source": [
    "joblib.dump(model, 'music-recommender.joblib')"
   ]
  },
  {
   "cell_type": "code",
   "execution_count": 70,
   "id": "07bdf5fc",
   "metadata": {},
   "outputs": [
    {
     "name": "stderr",
     "output_type": "stream",
     "text": [
      "/Users/smseneviratne/anaconda3/lib/python3.10/site-packages/sklearn/base.py:420: UserWarning: X does not have valid feature names, but DecisionTreeClassifier was fitted with feature names\n",
      "  warnings.warn(\n"
     ]
    },
    {
     "data": {
      "text/plain": [
       "array(['HipHop', 'Dance'], dtype=object)"
      ]
     },
     "execution_count": 70,
     "metadata": {},
     "output_type": "execute_result"
    }
   ],
   "source": [
    "newmodel = joblib.load('music-recommender.joblib')\n",
    "predictions = newmodel.predict([[21,1],[22,0]])\n",
    "predictions"
   ]
  },
  {
   "cell_type": "markdown",
   "id": "aef4e74d",
   "metadata": {},
   "source": [
    "creating a visualisation of the model, can be viewed in vscode "
   ]
  },
  {
   "cell_type": "code",
   "execution_count": 72,
   "id": "a55ee75b",
   "metadata": {},
   "outputs": [],
   "source": [
    "tree.export_graphviz(model,out_file ='music-recommender.dot',\n",
    "                     feature_names =['age','gender'],\n",
    "                    class_names =sorted(y.unique()),\n",
    "                    label = 'all', \n",
    "                    rounded = True,\n",
    "                    filled = True)"
   ]
  },
  {
   "cell_type": "code",
   "execution_count": null,
   "id": "c25dfd2d",
   "metadata": {},
   "outputs": [],
   "source": []
  }
 ],
 "metadata": {
  "kernelspec": {
   "display_name": "Python 3 (ipykernel)",
   "language": "python",
   "name": "python3"
  },
  "language_info": {
   "codemirror_mode": {
    "name": "ipython",
    "version": 3
   },
   "file_extension": ".py",
   "mimetype": "text/x-python",
   "name": "python",
   "nbconvert_exporter": "python",
   "pygments_lexer": "ipython3",
   "version": "3.10.9"
  }
 },
 "nbformat": 4,
 "nbformat_minor": 5
}
